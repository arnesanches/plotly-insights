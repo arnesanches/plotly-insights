{
 "cells": [
  {
   "cell_type": "code",
   "execution_count": null,
   "metadata": {},
   "outputs": [],
   "source": [
    "# Importação da biblioteca pandas para manipulação de dados\n",
    "import pandas as pd\n",
    "\n",
    "# Leitura do arquivo CSV com dados de cancelamentos\n",
    "tabela = pd.read_csv(\"cancelamentos_sample.csv\")"
   ]
  },
  {
   "cell_type": "code",
   "execution_count": null,
   "metadata": {},
   "outputs": [],
   "source": [
    "# Remover a coluna \"CustomerID\", que não é útil para a análise\n",
    "tabela = tabela.drop(columns=\"CustomerID\")\n",
    "\n",
    "# Exibir a tabela após a remoção da coluna\n",
    "display(tabela)\n",
    "\n",
    "# Exibir informações gerais sobre o DataFrame\n",
    "display(tabela.info())"
   ]
  },
  {
   "cell_type": "code",
   "execution_count": null,
   "metadata": {},
   "outputs": [],
   "source": [
    "# Remover valores ausentes do DataFrame\n",
    "tabela = tabela.dropna()\n",
    "\n",
    "# Exibir as informações do DataFrame após a remoção de valores ausentes\n",
    "display(tabela.info())"
   ]
  },
  {
   "cell_type": "code",
   "execution_count": null,
   "metadata": {},
   "outputs": [],
   "source": [
    "# Contagem absoluta dos valores na coluna \"cancelou\"\n",
    "display(tabela[\"cancelou\"].value_counts())\n",
    "\n",
    "# Contagem proporcional dos valores na coluna \"cancelou\"\n",
    "display(tabela[\"cancelou\"].value_counts(normalize=True))\n",
    "\n",
    "# Formatar a contagem proporcional como porcentagens\n",
    "display(tabela[\"cancelou\"].value_counts(normalize=True).map(\"{:.2%}\".format))"
   ]
  },
  {
   "cell_type": "code",
   "execution_count": null,
   "metadata": {},
   "outputs": [],
   "source": [
    "# Importação da biblioteca Plotly Express para criação de gráficos\n",
    "import plotly.express as px\n",
    "\n",
    "# Gerar gráficos para cada coluna, agrupados pela coluna \"cancelou\"\n",
    "for coluna in tabela.columns:\n",
    "    grafico = px.histogram(tabela, x=coluna, color=\"cancelou\")\n",
    "    grafico.show()"
   ]
  },
  {
   "cell_type": "code",
   "execution_count": null,
   "metadata": {},
   "outputs": [],
   "source": [
    "# Todos os clientes que ligaram mais de 4 vezes para o call center cancelaram.\n",
    "# Filtrar para clientes que realizaram até 4 ligações ao call center\n",
    "filtro = tabela[\"ligacoes_callcenter\"] <= 4\n",
    "tabela = tabela[filtro]\n",
    "\n",
    "# Todos os clientes que atrasaram mais de 20 dias no pagamento cancelaram.\n",
    "# Filtrar para clientes com atraso no pagamento de até 20 dias\n",
    "filtro = tabela[\"dias_atraso\"] <= 20\n",
    "tabela = tabela[filtro]\n",
    "\n",
    "# Todos os clientes de contrato mensal cancelaram.\n",
    "# Filtrar para clientes com contratos diferentes de \"Monthly\"\n",
    "filtro = tabela[\"duracao_contrato\"] != \"Monthly\"\n",
    "tabela = tabela[filtro]"
   ]
  },
  {
   "cell_type": "code",
   "execution_count": null,
   "metadata": {},
   "outputs": [],
   "source": [
    "# Exibir a proporção final de cancelamentos após a aplicação dos filtros\n",
    "display(tabela[\"cancelou\"].value_counts(normalize=True).map(\"{:.1%}\".format))"
   ]
  }
 ],
 "metadata": {
  "kernelspec": {
   "display_name": "Python 3",
   "language": "python",
   "name": "python3"
  },
  "language_info": {
   "name": "python",
   "version": "3.12.4"
  }
 },
 "nbformat": 4,
 "nbformat_minor": 2
}
