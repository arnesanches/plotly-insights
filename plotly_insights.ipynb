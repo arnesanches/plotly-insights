{
 "cells": [
  {
   "cell_type": "code",
   "execution_count": null,
   "metadata": {},
   "outputs": [],
   "source": [
    "# Importação da biblioteca pandas para manipulação de dados\n",
    "import pandas as pd\n",
    "\n",
    "# Leitura do arquivo CSV com dados de cancelamentos\n",
    "tabela = pd.read_csv(\"cancelamentos_sample.csv\")"
   ]
  }
 ],
 "metadata": {
  "kernelspec": {
   "display_name": "Python 3",
   "language": "python",
   "name": "python3"
  },
  "language_info": {
   "name": "python",
   "version": "3.12.4"
  }
 },
 "nbformat": 4,
 "nbformat_minor": 2
}
